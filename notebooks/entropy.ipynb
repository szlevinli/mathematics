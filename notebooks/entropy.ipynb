{
 "cells": [
  {
   "cell_type": "markdown",
   "metadata": {},
   "source": [
    "# What's an intuitive way to think of cross entropy\n",
    "\n",
    "**Source:**\n",
    "\n",
    "> - [What's an intuitive way to think of cross entropy](https://www.quora.com/Whats-an-intuitive-way-to-think-of-cross-entropy)"
   ]
  },
  {
   "cell_type": "markdown",
   "metadata": {},
   "source": [
    "# A Gentle Introduction to Information Entropy\n",
    "\n",
    "**Source:**\n",
    "\n",
    ">- [A Gentle Introduction to Information Entropy](https://machinelearningmastery.com/what-is-information-entropy/)\n",
    "\n",
    "## What is information theory\n",
    "\n",
    "Information theory is field of study concerned with quantifying information for communication.\n",
    "\n",
    "*信息论是涉及量化沟通信息的研究领域.*\n",
    "\n",
    "A foundational concept from information is the quantification of the amount of information in things like events, random variables, and distribution.\n",
    "\n",
    "*信息的一个基本概念是对诸如事件, 随机变量和分布的信息量的量化.*\n",
    "\n",
    "> *Why unify information theory and machine learning? Because they are two side of the ame coin. Information theory and machine learning still alone together.*"
   ]
  },
  {
   "cell_type": "markdown",
   "metadata": {},
   "source": [
    "## Calculate the information for an event\n",
    "\n",
    "Quantifying information is the foundation of field of information theory.\n",
    "\n",
    "The intuition behind quantifying information is the idea of measuring how much surprise there is in an event. Those events that rare (low probability) are more surprising and therefore have more information those events that there are common (high probability).\n",
    "\n",
    "- **Low probability event:** High information (surprising).\n",
    "- **High probability event:** Low information (unsurprising).\n",
    "\n",
    "Rare events are more uncertain or more surprising and require more information to represent them than common events.\n",
    "\n",
    "We can calculate the amount of information there is in an event using the probability of the event. This is called *\"Shannon information\", \"self-information\"*, or simply the *\"information\"*, and can be calculated for a discrete event $x$ as follows:\n",
    "\n",
    "- $information(x) = -\\log_2(p(x))$\n",
    "\n",
    "Where $p(x)$ is the probability of the event $x$.\n",
    "\n",
    "The choice of the 2-base logarithm means that the units of information measure is in bits(binary digits).\n",
    "\n",
    "The calculate of information is often written as $h()$ for example:\n",
    "\n",
    "- $h(x) = -\\log_2(p(x))$\n",
    "\n",
    "The negative sign ensures that the result is always positive or zero.\n",
    "\n",
    "Information will be zero when the probability of an event is $1.0$ or a certainty, e.g. there is no surprise."
   ]
  },
  {
   "cell_type": "markdown",
   "metadata": {},
   "source": [
    "Let's make this concrete with some examples.\n",
    "\n",
    "Consider a flip of a single fair coin. The probability of heads(and tails) is 0.5. We can calculate the information for flipping a head in Python"
   ]
  },
  {
   "cell_type": "code",
   "execution_count": 1,
   "metadata": {
    "ExecuteTime": {
     "end_time": "2019-11-12T03:20:12.817600Z",
     "start_time": "2019-11-12T03:20:12.813600Z"
    }
   },
   "outputs": [],
   "source": [
    "import numpy as np"
   ]
  },
  {
   "cell_type": "code",
   "execution_count": 2,
   "metadata": {
    "ExecuteTime": {
     "end_time": "2019-11-12T03:36:42.021001Z",
     "start_time": "2019-11-12T03:36:41.976001Z"
    }
   },
   "outputs": [
    {
     "name": "stdout",
     "output_type": "stream",
     "text": [
      "p(x)=0.5, information: 1.0\n"
     ]
    }
   ],
   "source": [
    "p = 0.5\n",
    "h = -np.log2(p)\n",
    "print(f'p(x)={p}, information: {h}')"
   ]
  },
  {
   "cell_type": "markdown",
   "metadata": {},
   "source": [
    "## Calculate the Entropy for a Random Variable\n",
    "\n",
    "$\n",
    "H(X)=-\\displaystyle\\sum_{k \\in K} p_k \\log(p_k)\n",
    "$\n",
    "\n",
    "上面的公式含义是, $H(X)$ 表示随机变量 $X$ 的熵, 它等于随机变量 $X$ 的 $K$ 种状态下, 每种状态 $k$ 的概率 $p_k$ 乘以 每种状态 $k$ 的概率的对数 $\\log(p_k)$.\n",
    "\n",
    "The lowest entropy is calculated for random variable that has a single event with a probability of 1.0, a certainly.\n",
    "\n",
    "*随机变量熵的最小值为 $0$, 也就是当随机变量只有一个事件, 换句话说就是该随机变量的概率为 $[1]$. 带入公式很容易得到熵的结果为 $0$*\n",
    "\n",
    "The largest entropy for a random variable will be if all events are equally likely.\n",
    "\n",
    "*当随机变量中的各种状态 $k \\in K$ 的概率相等(均匀分布), 此时该随机变量的熵值最大(从下图可以直观的观察到).*"
   ]
  },
  {
   "cell_type": "code",
   "execution_count": 17,
   "metadata": {
    "ExecuteTime": {
     "end_time": "2019-11-21T08:23:32.718690Z",
     "start_time": "2019-11-21T08:23:32.714690Z"
    }
   },
   "outputs": [],
   "source": [
    "import numpy as np\n",
    "import matplotlib.pyplot as plt"
   ]
  },
  {
   "cell_type": "code",
   "execution_count": 60,
   "metadata": {
    "ExecuteTime": {
     "end_time": "2019-11-21T09:51:03.219309Z",
     "start_time": "2019-11-21T09:51:03.091309Z"
    }
   },
   "outputs": [
    {
     "data": {
      "image/png": "[encoded data removed]",
      "text/plain": [
       "<Figure size 432x288 with 1 Axes>"
      ]
     },
     "metadata": {},
     "output_type": "display_data"
    }
   ],
   "source": [
    "prob_1 = np.linspace(.1, .9, 5)\n",
    "prob_2 = 1 - prob_1\n",
    "pair_prob = np.vstack((prob_1, prob_2))\n",
    "entropy = pair_prob * np.log2(pair_prob)\n",
    "entropy = -1 * np.sum(entropy, axis=0)\n",
    "x = np.arange(len(entropy))\n",
    "\n",
    "plt.xticks(ticks=x, labels=np.array2string(pair_prob.T)[1:-1].split('\\n '))\n",
    "plt.plot(x, entropy)\n",
    "plt.show()"
   ]
  },
  {
   "cell_type": "markdown",
   "metadata": {},
   "source": [
    "# A Gentle Introduction to Cross-Entropy for Machine Learning\n",
    "\n",
    "**Source:**\n",
    "\n",
    "> - [A Gentle Introduction to Cross-Entropy for Machine Learning](https://machinelearningmastery.com/cross-entropy-for-machine-learning/)\n",
    "\n",
    "**Cross-Entropy:** builds upon the idea of entropy from information theory and calculates the number of bits required to represent or transmit an average event from on distribution compared to another distribution.\n",
    "\n",
    "*交叉熵建立在信息论的熵概念之上, 用于计算一个分布中的平均事件用另外一个分布来代表或传输所需的位数(bits)*\n",
    "\n",
    "The intuition for this definition comes if we consider a target or underlying probability distribution P and an approximation of the target distribution Q, the cross-entropy of Q from P is the number of additional bits to represent an event using Q instead of P.\n",
    "\n",
    "*直觉上来讲, 如果我们假设一个目标概率分布为 P 和一个接近或类似该目标的概率分布 Q, 则交叉熵表示的是用 Q 来代表 P 中的一个事件所需要的位数(bits).*\n",
    "\n",
    "$H(P,Q) = -\\displaystyle\\sum_{x \\in P} P(x) \\log(Q(x))$\n",
    "\n",
    "如果 P 和 Q 分布完全一致, 则交叉熵等于 P 或 Q 的熵.\n",
    "\n",
    "> **Note:** this notation looks a lot like the joint probability, or more specifically, the joint entropy between P and Q. This is misleading as we scoring the difference between probability distributions with cross-entropy. Whereas, joint entropy is a different concept that uses the same notation and instead calculates the uncertainly across two(or more) random variables.\n",
    "\n",
    "> *__注意:__* 上面的公式看起来很像联合概率的公式, 或者更具体的说, 是 P 和 Q 的联合熵. 这是一个误导, 交叉熵是用来给概率分布间的不同来打分的. 而联合熵是另一个概念, 它表示的是两个(或更多)的随机变量间的不确定性.\n",
    "\n",
    "The cross-entropy is not symmetrical, meaning that:\n",
    "\n",
    "$H(P,Q) \\neq H(Q,P)$"
   ]
  },
  {
   "cell_type": "markdown",
   "metadata": {},
   "source": [
    "## Cross-Entropy vs. KL Divergence\n",
    "\n",
    "交叉熵与 KL 散度\n",
    "\n",
    "The KL Divergence is the average number of extra bits need to encode the data, due to the fact that we used distribution Q to encode the data instead of the true distribution P.\n",
    "\n",
    "*KL 散度是基于我们使用分布 Q 代替真实的分布 P 去加密数据, 所需要的额外的位数(bits)的平均值.*\n",
    "\n",
    "- **Cross_Entropy:** Average number of total bits to represent an event from Q instead of P.\n",
    "- **Relative Entropy(KL Divergence):** Average number of extra bits to represent an event from Q instead of P.\n"
   ]
  },
  {
   "cell_type": "markdown",
   "metadata": {},
   "source": [
    "## Cross-Entropy as Loss Function\n",
    "\n",
    "Each example has a know class label with a probability of 1.0, and a probability with 0.0 for all other labels. A model can estimate the probability of an example belonging to each class label. Cross-Entropy can then be used to calculate the difference between the two probability distribution.\n",
    "\n",
    "As such, we can map the classification of one example onto the idea of random variable with a probability distribution as follows:\n",
    "\n",
    "- **Random Variable:** The example for which we require a predicted class label. (*__随机变量:__ 我们需要去预测类标签的样本*)\n",
    "- **Events:** Each class label that could be predicted. (*__事件:__ 可预测的每个类标签*)\n",
    "\n",
    "在分类问题中, 我们分别用 $y$ 和 $\\hat{y}$ 表示实际概率和预测概率.\n",
    "\n",
    "- **Expected Probability($y$):** 某一个样本的每个分类的实际概率.\n",
    "- **Predicted Probability($\\hat{y}$):** 通过模型得到的某一个样本的每个分类的预测概率.\n",
    "\n",
    "某一个样本真实的分类概率分布可以表示为 $P$, 其预测的分类概率分布可以表示为 $Q$\n",
    "\n",
    "$H(P,Q)=-\\displaystyle\\sum_{x \\in X} P(x) \\log(Q(x))$\n",
    "\n",
    "对于二分类问题交叉熵的公式可以表示为:\n",
    "\n",
    "$H(P,Q)=-(P(class0)\\log(Q(class0)) + P(class1)\\log(Q(class1)))$\n",
    "\n",
    "在二分类问题中, 我们通常采用伯努利最为概率预测模型, 因此分类为 1 的标签将作为预测结果, 分类为 0 的标签为 1 - 预测结果, 可以表示如下:\n",
    "\n",
    "- **Predicted $P(class1) = \\hat{y}$**\n",
    "- **Predicted $P(class0) = 1 - \\hat{y}$**"
   ]
  },
  {
   "cell_type": "markdown",
   "metadata": {},
   "source": [
    "## Calculate Entropy for Class Label\n",
    "\n",
    "假设我们有一个 2 分类问题, 用性别来分类, 类别分别是\"男\"和\"女\", 那么对于某一个样本它的性别是\"男\", 我们可以用 [1, 0] 来表示它的概率分布, 如果性别是\"女\", 则用 [0,1] 来表示概率分布.\n",
    "\n",
    "在上面的描述中, 随机变量是\"性别\", 事件分别是\"男\"和\"女\", 概率分布 P 在性别是\"男\"的情况下, 表示为 [1, 0], 在\"女\"的情况下 [0, 1].\n",
    "\n",
    "现在我们假设有这么一条性别是\"男\"的样本, 预测结果为 0.8, 那么交叉熵的计算过程如下:"
   ]
  },
  {
   "cell_type": "code",
   "execution_count": 1,
   "metadata": {
    "ExecuteTime": {
     "end_time": "2019-11-24T14:13:00.985495Z",
     "start_time": "2019-11-24T14:13:00.979818Z"
    }
   },
   "outputs": [],
   "source": [
    "import numpy as np"
   ]
  },
  {
   "cell_type": "code",
   "execution_count": 9,
   "metadata": {
    "ExecuteTime": {
     "end_time": "2019-11-24T14:33:58.421704Z",
     "start_time": "2019-11-24T14:33:58.407445Z"
    }
   },
   "outputs": [
    {
     "data": {
      "text/plain": [
       "(0.3219, 0.3219)"
      ]
     },
     "execution_count": 9,
     "metadata": {},
     "output_type": "execute_result"
    }
   ],
   "source": [
    "def cross_entropy(p, q, est=1e-15):\n",
    "    log2_q = np.log2(q + est)\n",
    "    k = p * log2_q\n",
    "    return round(-1 * k.sum(), 4)\n",
    "    \n",
    "# 真实的分类概率分布\n",
    "p = np.array([1, 0])\n",
    "# 预测的分类概率分布\n",
    "q = np.array([0.8, 0.2])\n",
    "# 交叉熵\n",
    "ce = -1 * p[0] * np.log2(q[0]) + p[1] * np.log2(q[1])\n",
    "round(ce, 4), cross_entropy(p, q)"
   ]
  },
  {
   "cell_type": "markdown",
   "metadata": {},
   "source": [
    "# An introduction to entropy, cross entropy and KL divergence in machine learning\n",
    "\n",
    "**Source:**\n",
    "\n",
    "> - [An introduction to entropy, cross entropy and KL divergence in machine learning](https://adventuresinmachinelearning.com/cross-entropy-kl-divergence/)"
   ]
  },
  {
   "cell_type": "markdown",
   "metadata": {},
   "source": [
    "# Information Gain and Mutual Information for Machine Learning\n",
    "\n",
    "**Source:**\n",
    "\n",
    "> - (Information Gain and Mutual Information for Machine Learning)[https://machinelearningmastery.com/information-gain-and-mutual-information/]\n",
    "\n",
    "$\n",
    "I(X;Y) = H(Y) - H(Y|X)\n",
    "$"
   ]
  },
  {
   "cell_type": "markdown",
   "metadata": {},
   "source": [
    "# How to Calculate the KL Divergence for Machine Learning\n",
    "\n",
    "**Source:**\n",
    "\n",
    "> - (How to Calculate the KL Divergence for Machine Learning)[https://machinelearningmastery.com/divergence-between-probability-distributions/]"
   ]
  },
  {
   "cell_type": "code",
   "execution_count": null,
   "metadata": {},
   "outputs": [],
   "source": []
  }
 ],
 "metadata": {
  "kernelspec": {
   "display_name": "Python 3",
   "language": "python",
   "name": "python3"
  },
  "language_info": {
   "codemirror_mode": {
    "name": "ipython",
    "version": 3
   },
   "file_extension": ".py",
   "mimetype": "text/x-python",
   "name": "python",
   "nbconvert_exporter": "python",
   "pygments_lexer": "ipython3",
   "version": "3.6.8"
  },
  "toc": {
   "base_numbering": 1,
   "nav_menu": {},
   "number_sections": true,
   "sideBar": true,
   "skip_h1_title": false,
   "title_cell": "Table of Contents",
   "title_sidebar": "Contents",
   "toc_cell": false,
   "toc_position": {
    "height": "568px",
    "left": "301px",
    "top": "143px",
    "width": "245px"
   },
   "toc_section_display": true,
   "toc_window_display": false
  },
  "varInspector": {
   "cols": {
    "lenName": 16,
    "lenType": 16,
    "lenVar": 40
   },
   "kernels_config": {
    "python": {
     "delete_cmd_postfix": "",
     "delete_cmd_prefix": "del ",
     "library": "var_list.py",
     "varRefreshCmd": "print(var_dic_list())"
    },
    "r": {
     "delete_cmd_postfix": ") ",
     "delete_cmd_prefix": "rm(",
     "library": "var_list.r",
     "varRefreshCmd": "cat(var_dic_list()) "
    }
   },
   "types_to_exclude": [
    "module",
    "function",
    "builtin_function_or_method",
    "instance",
    "_Feature"
   ],
   "window_display": false
  }
 },
 "nbformat": 4,
 "nbformat_minor": 2
}
