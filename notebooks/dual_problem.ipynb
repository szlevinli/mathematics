{
 "cells": [
  {
   "cell_type": "markdown",
   "metadata": {},
   "source": [
    "# 对偶问题的理解\n",
    "\n",
    "**Source**\n",
    "\n",
    "> - [对偶问题的理解](https://blog.csdn.net/johnnyhuang39/article/details/81504697)"
   ]
  },
  {
   "cell_type": "markdown",
   "metadata": {},
   "source": [
    "# 什么是对偶问题\n",
    "\n",
    "**Source**\n",
    "\n",
    "> - [什么是对偶问题](https://blog.csdn.net/nciaebupt/article/details/8252056)"
   ]
  },
  {
   "cell_type": "markdown",
   "metadata": {},
   "source": [
    "# 原始问题与对偶问题\n",
    "\n",
    "**Sorce**\n",
    "\n",
    "> - [原始问题与对偶问题](https://blog.csdn.net/wuyanxue/article/details/80039109)"
   ]
  },
  {
   "cell_type": "markdown",
   "metadata": {},
   "source": [
    "# 凸优化－对偶问题\n",
    "\n",
    "**Source**\n",
    "\n",
    "> - [凸优化－对偶问题](https://blog.csdn.net/bbbeoy/article/details/72461586)"
   ]
  },
  {
   "cell_type": "markdown",
   "metadata": {},
   "source": [
    "# 写在SVM之前——凸优化与对偶问题\n",
    "\n",
    "**Source**\n",
    "\n",
    "> - [写在SVM之前——凸优化与对偶问题](https://www.cnblogs.com/dreamvibe/p/4349886.html)"
   ]
  },
  {
   "cell_type": "code",
   "execution_count": null,
   "metadata": {},
   "outputs": [],
   "source": []
  }
 ],
 "metadata": {
  "kernelspec": {
   "display_name": "Python 3",
   "language": "python",
   "name": "python3"
  },
  "language_info": {
   "codemirror_mode": {
    "name": "ipython",
    "version": 3
   },
   "file_extension": ".py",
   "mimetype": "text/x-python",
   "name": "python",
   "nbconvert_exporter": "python",
   "pygments_lexer": "ipython3",
   "version": "3.6.8"
  },
  "toc": {
   "base_numbering": 1,
   "nav_menu": {},
   "number_sections": true,
   "sideBar": true,
   "skip_h1_title": false,
   "title_cell": "Table of Contents",
   "title_sidebar": "Contents",
   "toc_cell": false,
   "toc_position": {},
   "toc_section_display": true,
   "toc_window_display": false
  }
 },
 "nbformat": 4,
 "nbformat_minor": 2
}
