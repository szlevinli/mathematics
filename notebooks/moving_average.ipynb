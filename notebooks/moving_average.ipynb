{
 "cells": [
  {
   "cell_type": "markdown",
   "metadata": {},
   "source": [
    "# Moving Average\n",
    "\n",
    "**参考资源**\n",
    "\n",
    "> - [指数加权移动平均(Exponential Weighted Moving Average)](https://blog.csdn.net/mzpmzk/article/details/80085929)\n",
    "> - [How Is the Exponential Moving Average (EMA) Formula Calculated?](https://www.investopedia.com/ask/answers/122314/what-exponential-moving-average-ema-formula-and-how-ema-calculated.asp)\n",
    "> - [How to Calculate Exponential Moving Averages](https://sciencing.com/calculate-exponential-moving-averages-8221813.html)\n",
    "> - [Simple, Exponential, and Weighted Moving Averages](https://www.thebalance.com/simple-exponential-and-weighted-moving-averages-1031196)\n",
    "> - [Moving Average, Weighted Moving Average, and Exponential Moving Average](https://www.investopedia.com/ask/answers/071414/whats-difference-between-moving-average-and-weighted-moving-average.asp)\n",
    "> - [How Is the Exponential Moving Average (EMA) Formula Calculated?](https://www.investopedia.com/ask/answers/122314/what-exponential-moving-average-ema-formula-and-how-ema-calculated.asp)\n",
    "> - [Exploring the Exponentially Weighted Moving Average](https://www.investopedia.com/articles/07/ewma.asp)\n",
    "> - [为什么在优化算法中使用指数加权平均](https://www.jianshu.com/p/41218cb5e099)"
   ]
  },
  {
   "cell_type": "markdown",
   "metadata": {},
   "source": [
    "# SMA"
   ]
  },
  {
   "cell_type": "markdown",
   "metadata": {},
   "source": [
    "# WMA\n",
    "\n",
    "$\n",
    "WMA = \\frac{P_1n+P_2(n-1)+\\cdots+P_n}{\\frac{n(n+1)}{2}}\n",
    "$"
   ]
  },
  {
   "cell_type": "markdown",
   "metadata": {},
   "source": [
    "# EMA\n",
    "\n",
    "$\n",
    "EMA=P_t K + EMA_{t-1}(1-K)\n",
    "$\n",
    "\n",
    "> - K: $\\frac{2}{N+1}$ N表示周期内的数量（天数）"
   ]
  },
  {
   "cell_type": "markdown",
   "metadata": {},
   "source": [
    "# EWMA\n",
    "\n",
    "$\n",
    "V_t=\\beta V_{t-1} + (1 - \\beta)\\theta_t\n",
    "$\n",
    "\n",
    "> - $\\beta$： 大于等于0.9 （0.9表示周期为10天$\\frac{1}{1-\\beta}=\\frac{1}{1-0.9}=10$；0.98表示周期50天）"
   ]
  },
  {
   "cell_type": "code",
   "execution_count": null,
   "metadata": {},
   "outputs": [],
   "source": []
  }
 ],
 "metadata": {
  "kernelspec": {
   "display_name": "Python 3",
   "language": "python",
   "name": "python3"
  },
  "language_info": {
   "codemirror_mode": {
    "name": "ipython",
    "version": 3
   },
   "file_extension": ".py",
   "mimetype": "text/x-python",
   "name": "python",
   "nbconvert_exporter": "python",
   "pygments_lexer": "ipython3",
   "version": "3.6.5"
  },
  "toc": {
   "base_numbering": 1,
   "nav_menu": {},
   "number_sections": true,
   "sideBar": true,
   "skip_h1_title": true,
   "title_cell": "Table of Contents",
   "title_sidebar": "Contents",
   "toc_cell": false,
   "toc_position": {},
   "toc_section_display": true,
   "toc_window_display": false
  },
  "varInspector": {
   "cols": {
    "lenName": 16,
    "lenType": 16,
    "lenVar": 40
   },
   "kernels_config": {
    "python": {
     "delete_cmd_postfix": "",
     "delete_cmd_prefix": "del ",
     "library": "var_list.py",
     "varRefreshCmd": "print(var_dic_list())"
    },
    "r": {
     "delete_cmd_postfix": ") ",
     "delete_cmd_prefix": "rm(",
     "library": "var_list.r",
     "varRefreshCmd": "cat(var_dic_list()) "
    }
   },
   "types_to_exclude": [
    "module",
    "function",
    "builtin_function_or_method",
    "instance",
    "_Feature"
   ],
   "window_display": false
  }
 },
 "nbformat": 4,
 "nbformat_minor": 2
}
