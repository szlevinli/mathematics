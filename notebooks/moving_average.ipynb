{
 "cells": [
  {
   "cell_type": "markdown",
   "metadata": {},
   "source": [
    "# Moving Average\n",
    "\n",
    "**参考资源**\n",
    "\n",
    "> - [How to Calculate Exponential Moving Averages](https://sciencing.com/calculate-exponential-moving-averages-8221813.html)\n",
    "> - [指数加权移动平均(Exponential Weighted Moving Average)](https://blog.csdn.net/mzpmzk/article/details/80085929)\n",
    "> - [Simple, Exponential, and Weighted Moving Averages](https://www.thebalance.com/simple-exponential-and-weighted-moving-averages-1031196)\n",
    "> - [Moving Average, Weighted Moving Average, and Exponential Moving Average](https://www.investopedia.com/ask/answers/071414/whats-difference-between-moving-average-and-weighted-moving-average.asp)\n",
    "> - [How Is the Exponential Moving Average (EMA) Formula Calculated?](https://www.investopedia.com/ask/answers/122314/what-exponential-moving-average-ema-formula-and-how-ema-calculated.asp)\n",
    "> - [Exploring the Exponentially Weighted Moving Average](https://www.investopedia.com/articles/07/ewma.asp)\n",
    "> - [为什么在优化算法中使用指数加权平均](https://www.jianshu.com/p/41218cb5e099)\n",
    "\n",
    "移动平均或称为移动平均线，是基于时间序列的一种统计方式，它主要用于在图表中显示趋势线。它的作用是消除“噪音”使数据更加“平滑”，它反映的是一种趋势。其中周期的天数是非常重要的参数，其值越大则趋势线越“平滑”（所谓平滑，也就是消除“噪音”的效果越好），对当前趋势反映越迟钝；其值越小则趋势线越“陡峭”，对当前趋势反映越敏感，但对于“噪音”消除的效果不好。\n",
    "\n",
    "> 这里对“噪音”解释一下，它其实就是一系列数据中的异常值，它的出现会影响趋势判断，比如在某地的天气中，夏季基本气温都在34°左右，突然有那么一两天的气温高至40°，那么这些40°的气温对夏季来说就是“噪音”。\n",
    "\n",
    "移动平均线有三种形式：\n",
    "\n",
    "- Simple Moving Average - SMA\n",
    "- Weighted Moving Average - WMA\n",
    "- Exponential Moving Average - EMA"
   ]
  },
  {
   "cell_type": "markdown",
   "metadata": {},
   "source": [
    "# SMA\n",
    "\n",
    "Simple Moving Average 简单移动平均线\n",
    "\n",
    "$\n",
    "SMA = \\frac{1}{N}\\displaystyle\\sum_{i=1}^{N}P_i\n",
    "$\n",
    "\n",
    "> - $N$: 周期内的数量（比如：5天一个周期中的5,10天一个周期的10）\n",
    "> - $P_i$: 周期中第 $i$ 个数据的值（比如：5天一个周期中的第1天的数据、第2天的数据等）"
   ]
  },
  {
   "cell_type": "markdown",
   "metadata": {},
   "source": [
    "# WMA\n",
    "\n",
    "Weighted Moving Average 权重移动平均\n",
    "\n",
    "WMA 的思想是，离当前时间越近的值对当前移动平均计算影响力越大，这是一个很直观的现象，昨天的31度比10天前的30度对当前的趋势判断影响更大。根据这个思想，我们需要在计算移动平均时为不同的数据赋予不同的权重。\n",
    "\n",
    "SMA 实际上是 WMA 一种形式，SMA 默认每个值的权重相等，为 $\\frac{1}{N}$\n",
    "\n",
    "$\n",
    "\\begin{align*}\n",
    "    WMA &= \\frac{\\displaystyle\\sum_{i=1}^{N} P_i i}{\\frac{N(N+1)}{2}} \\\\\n",
    "       &= \\frac{2}{N(N+1)}\\displaystyle\\sum_{i=1}^{N} P_i i\n",
    "\\end{align*}\n",
    "$\n",
    "\n",
    "> - $N$: 周期内的数量（比如：5天一个周期中的5,10天一个周期的10）\n",
    "> - $P_i$: 周期中第 $i$ 个数据的值（比如：5天一个周期中的第1天的数据、第2天的数据等）\n",
    "\n",
    "WMA 的权重分配算法是, 根据周期内的数量进行分配, 离的越远权重越低, 离得越近权重越高, 比如: 周期的数量为 5, 则排在第一位的权重是 $\\frac{1}{15}$, 第二位的权重是 $\\frac{2}{15}$, 依次类推 $\\frac{3}{15}, \\frac{4}{15}, \\frac{5}{15}$, 可以看到他们加起来刚好等于 1, 这符合权重的要求. 其中分母 15 的计算公式是 $\\frac{5 \\times (5+1)}{2}=15$\n"
   ]
  },
  {
   "cell_type": "markdown",
   "metadata": {},
   "source": [
    "# EMA\n",
    "\n",
    "Exponential Moving Average 指数移动平均\n",
    "\n",
    "EMA 的思想与 WMA 是一致的，只是它的权重计算更加的复杂，权重的计算方式的思路是用昨天的 EMA 来计算今天的 EMA。\n",
    "\n",
    "$\n",
    "\\begin{align*}\n",
    "    EMA &= (P_{today} - EMA_{yesterday})K + EMA_{yesterday} \\\\\n",
    "        &= P_{today}K - EMA_{yesterday}K + EMA_{yesterday} \\\\\n",
    "        &= KP_{today} + (1-K)EMA_{yesterday}\n",
    "\\end{align*}\n",
    "$\n",
    "\n",
    "> - $P_{today}$: 今天的数值\n",
    "> - $EMA_{yesterday}$: 昨天的 EMA\n",
    "> - $K$: 权重或称为平滑常量（smoothing constant），其计算公式为 $K=\\frac{2}{N+1}$ N表示周期内的数量（天数）\n",
    "\n",
    "EMA 为什么叫指数权重平均呢? 我们可以用一个列子来说明, 假设我们计算第 5 天的 EMA\n",
    "\n",
    "$\n",
    "\\begin{align*}\n",
    "    EMA_5 &= KP_5 + (1-K)EMA_4 \\\\\n",
    "          &= KP_5 + (1-K)(KP_4 + (1-K)EMA_3) \\\\\n",
    "          &= KP_5 + (1-K)KP_4 + (1-K)^2(KP_3 + (1-K)EMA_2) \\\\\n",
    "          &= KP_5 + (1-K)KP_4 + (1-K)^{2}KP_3 + (1-K)^{3}(KP_1 + (1-K)EMA_1) \\\\\n",
    "          &= KP_5 + (1-K)KP_4 + (1-K)^{2}KP_3 + (1-K)^{3}KP_2 + (1-K)^{4}(KP_1 + (1-K)EMA_0) \\\\\n",
    "          &= KP_5 + (1-K)KP_4 + (1-K)^{2}KP_3 + (1-K)^{3}KP_2 + (1-K)^{4}KP_1+ (1-K)^{5}EMA_0\n",
    "\\end{align*}\n",
    "$\n",
    "\n",
    "将上式用更通用的方式表示:\n",
    "\n",
    "$\n",
    "\\begin{align*}\n",
    "    EMA_n &= (1-K)^{0}KP_n + (1-K)^{1}KP_{n-1} + \\cdots + (1-k)^{n}KP_0 \\\\\n",
    "          &= K\\displaystyle\\sum_{i=0}^{n}(1-K)^{i}P_{n-i}\n",
    "\\end{align*}\n",
    "$\n",
    "\n",
    "<span class=\"girk\">从上式可以看出权重 $(1-K)^i$ 按指数变化, 因此称之为 **指数移动平均**</span>"
   ]
  },
  {
   "cell_type": "markdown",
   "metadata": {},
   "source": [
    "## 计算方法\n",
    "\n",
    "由于 EMA 权重的特殊性, 计算方法需要分三步进行:\n",
    "\n",
    "1. 计算初始 EMA, 用 SMA 的算法计算\n",
    "2. 计算 K 值, 即 smooth constant, $K=\\frac{2}{N+1}$\n",
    "3. 计算 EMA\n",
    "\n",
    "这里特别需要注意的是初始值的计算方法, 比如有 10 个数据, 周期数为 5, 则 EMA 的初始值是算第 6 个值的, 即 $EMA_6$, 它等于前 5 个数据的 SMA 值."
   ]
  },
  {
   "cell_type": "markdown",
   "metadata": {},
   "source": [
    "# EWMA\n",
    "\n",
    "$\n",
    "V_t=\\beta V_{t-1} + (1 - \\beta)\\theta_t\n",
    "$\n",
    "\n",
    "> - $\\beta$： 大于等于0.9 （0.9表示周期为10天$\\frac{1}{1-\\beta}=\\frac{1}{1-0.9}=10$；0.98表示周期50天）"
   ]
  },
  {
   "cell_type": "code",
   "execution_count": 1,
   "metadata": {
    "ExecuteTime": {
     "end_time": "2019-11-28T13:57:26.628914Z",
     "start_time": "2019-11-28T13:57:26.621699Z"
    }
   },
   "outputs": [],
   "source": [
    "import numpy as np\n",
    "import matplotlib as mpl\n",
    "import matplotlib.pyplot as plt"
   ]
  },
  {
   "cell_type": "code",
   "execution_count": 2,
   "metadata": {
    "ExecuteTime": {
     "end_time": "2019-11-28T13:57:27.609923Z",
     "start_time": "2019-11-28T13:57:27.587425Z"
    },
    "scrolled": false
   },
   "outputs": [
    {
     "data": {
      "text/plain": [
       "array([33, 30, 38, 32, 32, 32, 37, 31, 31, 30, 30, 33, 30, 30, 30, 32, 30,\n",
       "       32, 33, 31, 33, 32, 33, 32, 31, 39, 32, 30, 33, 30, 37])"
      ]
     },
     "execution_count": 2,
     "metadata": {},
     "output_type": "execute_result"
    }
   ],
   "source": [
    "################################################################################\n",
    "# 准备数据\n",
    "################################################################################\n",
    "np.random.seed(7090)\n",
    "# 正常数据\n",
    "temperature = np.random.randint(30, 34, size=27)\n",
    "# 噪音数据\n",
    "noise = np.random.randint(37, 40, size=4)\n",
    "temperature = np.concatenate((temperature, noise))\n",
    "# 打乱数据\n",
    "np.random.shuffle(temperature)\n",
    "temperature"
   ]
  },
  {
   "cell_type": "code",
   "execution_count": 7,
   "metadata": {
    "ExecuteTime": {
     "end_time": "2019-11-28T14:17:01.477284Z",
     "start_time": "2019-11-28T14:17:01.461400Z"
    },
    "code_folding": []
   },
   "outputs": [],
   "source": [
    "################################################################################\n",
    "# 算法实现\n",
    "################################################################################\n",
    "\n",
    "\n",
    "def SMA(x, period=5):\n",
    "    \"\"\"Simple Moving Average\n",
    "    SMA算法，输入数据长度 L，输出数据长度 L - period + 1。\n",
    "    如果 L < period，则直接返回输入数据的平均值。\n",
    "\n",
    "    Parameters:\n",
    "    -----------\n",
    "    x {ndarray}: 输入数据\n",
    "    period {int}: 周期\n",
    "\n",
    "    Returns:\n",
    "    --------\n",
    "    ndarray - 移动平局线\n",
    "    \"\"\"\n",
    "    if x.size < period:\n",
    "        return np.array([x.mean()])\n",
    "    y = []\n",
    "    for i in np.arange(period, x.size+1):\n",
    "        tmp = x[i-period:i].mean()\n",
    "        y.append(tmp)\n",
    "    return np.array(y)\n",
    "\n",
    "\n",
    "def WMA(x, period=5):\n",
    "    \"\"\"Weighted Moving Average\n",
    "    WMA算法，输入数据长度 L，输出数据长度 L - period + 1。\n",
    "    如果 L < period，则直接返回输入数据的平均值。\n",
    "\n",
    "    Parameters:\n",
    "    -----------\n",
    "    x {ndarray}: 输入数据\n",
    "    period {int}: 周期\n",
    "\n",
    "    Returns:\n",
    "    --------\n",
    "    ndarray - 权重移动平局线\n",
    "    \"\"\"\n",
    "    if x.size < period:\n",
    "        return np.array([x.mean()])\n",
    "    n = period * (period + 1) / 2\n",
    "    # 设置权重\n",
    "    w = np.arange(1, period+1) / n\n",
    "    y = []\n",
    "    for i in np.arange(period, x.size+1):\n",
    "        tmp = x[i-period:i]\n",
    "        tmp = np.average(tmp, weights=w)\n",
    "        y.append(tmp)\n",
    "    return np.array(y)\n",
    "\n",
    "\n",
    "def EMA(x, period=5):\n",
    "    \"\"\"Exponential Moving Average\n",
    "    WMA算法，输入数据长度 L，输出数据长度 L - period + 1。\n",
    "    如果 L < period，则直接返回输入数据的平均值。\n",
    "\n",
    "    Parameters:\n",
    "    -----------\n",
    "    x {ndarray}: 输入数据\n",
    "    period {int}: 周期\n",
    "\n",
    "    Returns:\n",
    "    --------\n",
    "    ndarray - 指数移动平局线\n",
    "    \"\"\"\n",
    "    if x.size < period:\n",
    "        return np.array([x.mean()])\n",
    "    # 1. 计算初始值\n",
    "    ema_init = x[:period].mean()\n",
    "    # 2. 计算 K 值 smooth constant\n",
    "    k = 2 / (period + 1)\n",
    "    # 3. 计算 EMA\n",
    "    y = []\n",
    "    for i in np.arange(period, x.size):\n",
    "        ema = (x[i] - ema_init) * k + ema_init\n",
    "        y.append(ema)\n",
    "        ema_init = ema\n",
    "    return np.array(y)"
   ]
  },
  {
   "cell_type": "code",
   "execution_count": 8,
   "metadata": {
    "ExecuteTime": {
     "end_time": "2019-11-28T14:17:02.840925Z",
     "start_time": "2019-11-28T14:17:02.323417Z"
    }
   },
   "outputs": [
    {
     "data": {
      "image/png": "[encoded data removed]",
      "text/plain": [
       "<Figure size 1800x432 with 3 Axes>"
      ]
     },
     "metadata": {},
     "output_type": "display_data"
    }
   ],
   "source": [
    "################################################################################\n",
    "# 图表展示\n",
    "################################################################################\n",
    "def plot_ma(data, ma, period=5):\n",
    "    # 画原始数据\n",
    "    x_o = np.arange(data.size) + 1\n",
    "    plt.plot(x_o, data, 'o')\n",
    "    # 画移动平均线\n",
    "    y = ma(data, period=period)\n",
    "    x = np.arange(y.size) + period\n",
    "    plt.plot(x, y, label=f'period={period}')\n",
    "\n",
    "\n",
    "fig = plt.figure(figsize=(25, 6))\n",
    "# plot SMA\n",
    "plt.subplot(131)\n",
    "plot_ma(temperature, SMA, period=5)\n",
    "plot_ma(temperature, SMA, period=10)\n",
    "plt.title('SMA')\n",
    "plt.legend()\n",
    "# plot WMA\n",
    "plt.subplot(132)\n",
    "plot_ma(temperature, WMA, period=5)\n",
    "plot_ma(temperature, WMA, period=10)\n",
    "plt.title('WMA')\n",
    "plt.legend()\n",
    "# plot EMA\n",
    "# plot WMA\n",
    "plt.subplot(133)\n",
    "plot_ma(temperature, EMA, period=5)\n",
    "plot_ma(temperature, EMA, period=10)\n",
    "plt.title('EMA')\n",
    "plt.legend()\n",
    "\n",
    "plt.show()"
   ]
  },
  {
   "cell_type": "markdown",
   "metadata": {},
   "source": [
    "<span class=\"girk\">从上图可以看出周期越长，移动平均线就约平滑，但“延迟”也越高。</span>"
   ]
  },
  {
   "cell_type": "code",
   "execution_count": null,
   "metadata": {},
   "outputs": [],
   "source": []
  }
 ],
 "metadata": {
  "kernelspec": {
   "display_name": "Python 3",
   "language": "python",
   "name": "python3"
  },
  "language_info": {
   "codemirror_mode": {
    "name": "ipython",
    "version": 3
   },
   "file_extension": ".py",
   "mimetype": "text/x-python",
   "name": "python",
   "nbconvert_exporter": "python",
   "pygments_lexer": "ipython3",
   "version": "3.6.8"
  },
  "toc": {
   "base_numbering": 1,
   "nav_menu": {},
   "number_sections": true,
   "sideBar": true,
   "skip_h1_title": false,
   "title_cell": "Table of Contents",
   "title_sidebar": "Contents",
   "toc_cell": false,
   "toc_position": {
    "height": "451px",
    "left": "213px",
    "top": "139px",
    "width": "256px"
   },
   "toc_section_display": true,
   "toc_window_display": false
  },
  "varInspector": {
   "cols": {
    "lenName": 16,
    "lenType": 16,
    "lenVar": 40
   },
   "kernels_config": {
    "python": {
     "delete_cmd_postfix": "",
     "delete_cmd_prefix": "del ",
     "library": "var_list.py",
     "varRefreshCmd": "print(var_dic_list())"
    },
    "r": {
     "delete_cmd_postfix": ") ",
     "delete_cmd_prefix": "rm(",
     "library": "var_list.r",
     "varRefreshCmd": "cat(var_dic_list()) "
    }
   },
   "types_to_exclude": [
    "module",
    "function",
    "builtin_function_or_method",
    "instance",
    "_Feature"
   ],
   "window_display": false
  }
 },
 "nbformat": 4,
 "nbformat_minor": 2
}
